{
 "cells": [
  {
   "cell_type": "markdown",
   "metadata": {},
   "source": [
    "## Importing Libraries"
   ]
  },
  {
   "cell_type": "code",
   "execution_count": null,
   "metadata": {
    "scrolled": true
   },
   "outputs": [],
   "source": [
    "!pip install plotly"
   ]
  },
  {
   "cell_type": "code",
   "execution_count": 2,
   "metadata": {},
   "outputs": [],
   "source": [
    "import pandas as pd\n",
    "import matplotlib.pyplot as plt\n",
    "import matplotlib.ticker as ticker\n",
    "import numpy as np\n",
    "from datetime import datetime\n",
    "import plotly.graph_objects as go\n",
    "import plotly.express as px\n",
    "import os\n",
    "from IPython.display import display, clear_output"
   ]
  },
  {
   "cell_type": "markdown",
   "metadata": {},
   "source": [
    "## Loading initial data"
   ]
  },
  {
   "cell_type": "code",
   "execution_count": null,
   "metadata": {},
   "outputs": [],
   "source": [
    "events = pd.read_csv(\"1202Events.csv\") \n",
    "sensor = pd.read_csv(\"post_lunch_test.csv\")"
   ]
  },
  {
   "cell_type": "code",
   "execution_count": null,
   "metadata": {},
   "outputs": [],
   "source": [
    "events[\"time_ms\"] = np.nan\n",
    "sensor[\"time_ms\"] = np.nan\n",
    "events[\"time_s\"] = np.nan\n",
    "sensor[\"time_s\"] = np.nan"
   ]
  },
  {
   "cell_type": "code",
   "execution_count": null,
   "metadata": {},
   "outputs": [],
   "source": [
    "events.columns = ['ts','value', 'time_ms', 'time_s']\n",
    "sensor.columns = ['ts','value', 'time_ms', 'time_s']"
   ]
  },
  {
   "cell_type": "code",
   "execution_count": null,
   "metadata": {},
   "outputs": [],
   "source": [
    "events=events.iloc[947:len(events)]#new events, starts from 947th index"
   ]
  },
  {
   "cell_type": "code",
   "execution_count": null,
   "metadata": {},
   "outputs": [],
   "source": [
    "old_events=events.iloc[0:947]#old events"
   ]
  },
  {
   "cell_type": "markdown",
   "metadata": {},
   "source": [
    "## Useful functions\n",
    "Data Cleaning:"
   ]
  },
  {
   "cell_type": "code",
   "execution_count": null,
   "metadata": {},
   "outputs": [],
   "source": [
    "def fixTime(df):\n",
    "    for x in range(0,len(df)):\n",
    "        #update progress\n",
    "        clear_output(wait=True)\n",
    "        print('Iteration '+str(x)+'/'+str(len(df)))\n",
    "    \n",
    "        #reformat time\n",
    "        ts=df['ts'].iloc[x]\n",
    "        df['time_ms'].iloc[x]=datetime.utcfromtimestamp(ts).strftime('%H:%M:%S.%f')\n",
    "        df['time_s'].iloc[x]=datetime.utcfromtimestamp(ts).strftime('%H:%M:%S')\n",
    "        #df['ts'].iloc[x]=int(df['ts'].iloc[x])\n",
    "    return df"
   ]
  },
  {
   "cell_type": "code",
   "execution_count": null,
   "metadata": {},
   "outputs": [],
   "source": [
    "def saveCsv(df, name):\n",
    "    df.to_csv(str(name),index=False)"
   ]
  },
  {
   "cell_type": "markdown",
   "metadata": {},
   "source": [
    "Visualisation:"
   ]
  },
  {
   "cell_type": "code",
   "execution_count": null,
   "metadata": {},
   "outputs": [],
   "source": [
    "def save_pdf(fig,name):\n",
    "    if not os.path.exists(\"images\"):\n",
    "        os.mkdir(\"images\")\n",
    "        \n",
    "    fig.write_image(\"images/fig_\"+str(name)+\".pdf\")\n"
   ]
  },
  {
   "cell_type": "markdown",
   "metadata": {},
   "source": [
    "## Cleaning the data"
   ]
  },
  {
   "cell_type": "code",
   "execution_count": null,
   "metadata": {},
   "outputs": [],
   "source": [
    "events=fixTime(events)"
   ]
  },
  {
   "cell_type": "code",
   "execution_count": null,
   "metadata": {},
   "outputs": [],
   "source": [
    "sensor=fixTime(sensor)"
   ]
  },
  {
   "cell_type": "code",
   "execution_count": null,
   "metadata": {},
   "outputs": [],
   "source": [
    "events.tail()"
   ]
  },
  {
   "cell_type": "markdown",
   "metadata": {},
   "source": [
    "Save cleaned data for further reuse"
   ]
  },
  {
   "cell_type": "code",
   "execution_count": null,
   "metadata": {},
   "outputs": [],
   "source": [
    "saveCsv(sensor,'sensor_cleaned.csv')"
   ]
  },
  {
   "cell_type": "code",
   "execution_count": null,
   "metadata": {},
   "outputs": [],
   "source": [
    "saveCsv(events,'events_cleaned.csv')"
   ]
  },
  {
   "cell_type": "markdown",
   "metadata": {},
   "source": [
    "# Load cleaned data"
   ]
  },
  {
   "cell_type": "code",
   "execution_count": 3,
   "metadata": {},
   "outputs": [],
   "source": [
    "events = pd.read_csv(\"events_cleaned.csv\") \n",
    "sensor = pd.read_csv(\"sensor_cleaned.csv\")"
   ]
  },
  {
   "cell_type": "markdown",
   "metadata": {},
   "source": [
    "## Plotting data"
   ]
  },
  {
   "cell_type": "code",
   "execution_count": null,
   "metadata": {
    "scrolled": false
   },
   "outputs": [],
   "source": [
    "fig = px.scatter(x=sensor['time_ms'], y=sensor['value'])\n",
    "fig.show()\n"
   ]
  },
  {
   "cell_type": "code",
   "execution_count": null,
   "metadata": {
    "scrolled": true
   },
   "outputs": [],
   "source": [
    "fig2 = px.scatter(x=events['time_s'], y=events['value'])\n",
    "fig2.show()"
   ]
  },
  {
   "cell_type": "code",
   "execution_count": null,
   "metadata": {},
   "outputs": [],
   "source": [
    "fig = go.Figure()\n",
    "fig.add_trace(go.Scatter(x=sensor['time_ms'], y=sensor['value'], name=\"Sensor\",\n",
    "                         line_color='deepskyblue', mode='markers'))\n",
    "\n",
    "fig.add_trace(go.Scatter(x=events['time_ms'], y=events['value'], name=\"Events\",\n",
    "                         line_color='red', mode='markers'))\n",
    "\n",
    "\n",
    "fig.show()"
   ]
  },
  {
   "cell_type": "code",
   "execution_count": null,
   "metadata": {},
   "outputs": [],
   "source": [
    "#Merge the two datasets on time\n",
    "e=events[['time_s', 'value']]\n",
    "s=sensor[['time_s', 'value']]\n",
    "merged = pd.merge(s, e, on='time_s')\n",
    "merged.columns = ['time','sensor', 'event']"
   ]
  },
  {
   "cell_type": "code",
   "execution_count": null,
   "metadata": {},
   "outputs": [],
   "source": [
    "fig = go.Figure()\n",
    "fig.add_trace(go.Scatter(x=merged.time, y=merged.sensor, name=\"Sensor\",\n",
    "                         line_color='deepskyblue'))\n",
    "\n",
    "fig.add_trace(go.Scatter(x=merged.time, y=merged.event, name=\"Events\",\n",
    "                         line_color='red', mode='markers'))\n",
    "\n",
    "fig.update_layout(title_text='Time Series with Rangeslider',\n",
    "                  xaxis_rangeslider_visible=False)\n",
    "\n",
    "fig.show()"
   ]
  },
  {
   "cell_type": "code",
   "execution_count": null,
   "metadata": {
    "scrolled": false
   },
   "outputs": [],
   "source": [
    "date=merged.time\n",
    "fig, ax = plt.subplots(figsize=(30, 15))\n",
    "\n",
    "plt.plot(date, merged.sensor,color='b', marker='o', alpha=0.1)\n",
    "plt.plot(date, merged.event,color='r',linewidth=2)\n",
    "\n",
    "plt.xticks(rotation='vertical')\n",
    "# We change the fontsize of minor ticks label \n",
    "ax.tick_params(axis=\"x\", which='major', labelsize=8)\n",
    "ax.tick_params(axis=\"y\", which='major', labelsize=16)\n",
    "\n",
    "\n",
    "plt.show()\n",
    "\n",
    "#fig.savefig(\"test_pdf.pdf\", bbox_inches='tight')\n"
   ]
  },
  {
   "cell_type": "code",
   "execution_count": 5,
   "metadata": {},
   "outputs": [],
   "source": [
    "x=sensor['ts']#[::10]\n",
    "y=sensor['value']#[::10]"
   ]
  },
  {
   "cell_type": "code",
   "execution_count": 6,
   "metadata": {},
   "outputs": [
    {
     "data": {
      "image/png": "[encoded data removed]",
      "text/plain": [
       "<Figure size 2160x1080 with 1 Axes>"
      ]
     },
     "metadata": {
      "needs_background": "light"
     },
     "output_type": "display_data"
    }
   ],
   "source": [
    "fig, ax = plt.subplots(figsize=(30, 15))\n",
    "\n",
    "plt.scatter(events['ts'],events['value'],color='r', marker='o')\n",
    "plt.scatter(x,y,color='k', marker='.', alpha=0.75)\n",
    "\n",
    "plt.xticks(rotation='vertical')\n",
    "\n",
    "#change xtick frequency\n",
    "start, end = ax.get_xlim()\n",
    "ax.xaxis.set_ticks(np.arange(start, end, 5))\n",
    "    \n",
    "# We change the fontsize of minor ticks label \n",
    "ax.tick_params(axis=\"x\", which='major', labelsize=8)\n",
    "ax.tick_params(axis=\"y\", which='major', labelsize=20)\n",
    "\n",
    "\n",
    "plt.show()\n",
    "\n",
    "\n",
    "#fig.savefig(\"test_pdf5.pdf\", bbox_inches='tight')\n"
   ]
  }
 ],
 "metadata": {
  "kernelspec": {
   "display_name": "Python 3",
   "language": "python",
   "name": "python3"
  },
  "language_info": {
   "codemirror_mode": {
    "name": "ipython",
    "version": 3
   },
   "file_extension": ".py",
   "mimetype": "text/x-python",
   "name": "python",
   "nbconvert_exporter": "python",
   "pygments_lexer": "ipython3",
   "version": "3.7.4"
  }
 },
 "nbformat": 4,
 "nbformat_minor": 2
}
